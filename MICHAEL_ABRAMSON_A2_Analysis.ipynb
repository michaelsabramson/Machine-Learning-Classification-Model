{
 "cells": [
  {
   "cell_type": "markdown",
   "metadata": {},
   "source": [
    "<h1>Imports</h1>\n",
    "\n",
    "<strong>Importing necessary libraries for data analysis including dataframe, graphing, and modeling tools.</strong>\n",
    "\n",
    "<h2>Please install catboost before running this code.</h2>\n",
    "\n",
    "<strong>A comment is included below to assist with this installation.</strong>"
   ]
  },
  {
   "cell_type": "code",
   "execution_count": 1,
   "metadata": {},
   "outputs": [
    {
     "name": "stderr",
     "output_type": "stream",
     "text": [
      "C:\\Users\\mabra\\Anaconda3\\lib\\site-packages\\sklearn\\externals\\six.py:31: FutureWarning: The module is deprecated in version 0.21 and will be removed in version 0.23 since we've dropped support for Python 2.7. Please rely on the official version of six (https://pypi.org/project/six/).\n",
      "  \"(https://pypi.org/project/six/).\", FutureWarning)\n"
     ]
    }
   ],
   "source": [
    "# importing libraries\n",
    "#must install catboost with pip\n",
    "#pip install catboost --no-cache-dir\n",
    "import pandas as pd # data science essentials\n",
    "import seaborn as sns # data visualization\n",
    "import matplotlib.pyplot as plt # data visualization\n",
    "import statsmodels.formula.api as smf # linear regression (statsmodels)\n",
    "from sklearn.model_selection import train_test_split # train/test split\n",
    "from sklearn.linear_model import LinearRegression # linear regression (scikit-learn)\n",
    "import numpy as np #log and math tools\n",
    "from catboost import CatBoostClassifier #best classification package\n",
    "from contextlib import contextmanager #first package for output suppression\n",
    "import sys, os #second package for output suppression\n",
    "from sklearn.linear_model import LogisticRegression  # logistic regression\n",
    "from sklearn.neighbors import KNeighborsClassifier   # KNN for classification\n",
    "from sklearn.metrics import roc_auc_score            # auc score\n",
    "from sklearn.metrics import confusion_matrix         # confusion matrix\n",
    "from sklearn.tree import export_graphviz             # exports graphics\n",
    "from sklearn.externals.six import StringIO           # saves objects in memory\n",
    "from IPython.display import Image                    # displays on frontend\n",
    "import pydotplus                                     # interprets dot objects\n",
    "from sklearn.tree import DecisionTreeClassifier      # classification trees\n",
    "\n"
   ]
  },
  {
   "cell_type": "markdown",
   "metadata": {},
   "source": [
    "<h1> Data </h1>\n",
    "\n",
    "<strong>Loading the data set for analysis.</strong>"
   ]
  },
  {
   "cell_type": "code",
   "execution_count": 2,
   "metadata": {},
   "outputs": [],
   "source": [
    "#locating dataset\n",
    "file = 'Apprentice_Chef_Dataset.xlsx'\n",
    "\n",
    "#reading dataset into a dataframe\n",
    "original_df = pd.read_excel(file)"
   ]
  },
  {
   "cell_type": "markdown",
   "metadata": {},
   "source": [
    "<h1> Outlier Analysis </h1>\n",
    "\n",
    "<strong>Plotting histograms for outlier analysis. Additionally, histograms reveal information about normalcy of variables as well as distribution of categorical variables. Below I highlight histograms of the two variables with which I chose to set outliers for my model, number of early deliveries and number or unique meals purchased.</strong>"
   ]
  },
  {
   "cell_type": "code",
   "execution_count": 3,
   "metadata": {},
   "outputs": [
    {
     "data": {
      "text/plain": [
       "<matplotlib.axes._subplots.AxesSubplot at 0x2f6554b1cc8>"
      ]
     },
     "execution_count": 3,
     "metadata": {},
     "output_type": "execute_result"
    },
    {
     "data": {
      "image/png": "[encoded data removed]",
      "text/plain": [
       "<Figure size 432x288 with 1 Axes>"
      ]
     },
     "metadata": {
      "needs_background": "light"
     },
     "output_type": "display_data"
    }
   ],
   "source": [
    "#prepares dataset for histogram creation, removes non-numerical or non-continuous variables\n",
    "histset = original_df.drop(['CROSS_SELL_SUCCESS',\n",
    "                            'NAME',\n",
    "                           'EMAIL',\n",
    "                           'FIRST_NAME',\n",
    "                           'FAMILY_NAME',\n",
    "                            'MOBILE_NUMBER'],\n",
    "                           axis=1)\n",
    "\n",
    "#code to view all histograms of variables in the dataframe\n",
    "#histset.hist( figsize = (10,100), bins=100, grid=False, layout=(23,1))\n",
    "\n",
    "#histogram for unique meals purchased\n",
    "histset['UNIQUE_MEALS_PURCH'].hist()\n",
    "\n",
    "#histogram for early deliveries\n",
    "histset['EARLY_DELIVERIES'].hist()"
   ]
  },
  {
   "cell_type": "markdown",
   "metadata": {},
   "source": [
    "<h1> Data Preparation </h1>\n",
    "\n",
    "<strong>Next I prepared my loaded data for modeling by defining response and explanatory variables and splitting the data into my training and testing sets.</strong>"
   ]
  },
  {
   "cell_type": "code",
   "execution_count": 4,
   "metadata": {},
   "outputs": [],
   "source": [
    "# preparing explanatory variable data\n",
    "chef_data   = original_df.drop(['CROSS_SELL_SUCCESS',\n",
    "                            'NAME',\n",
    "                           'EMAIL',\n",
    "                           'FIRST_NAME',\n",
    "                           'FAMILY_NAME',\n",
    "                            'MOBILE_NUMBER'],\n",
    "                           axis=1)\n",
    "\n",
    "# preparing response variable data\n",
    "chef_target = original_df.loc[:, 'CROSS_SELL_SUCCESS']\n",
    "\n",
    "# preparing training and testing sets\n",
    "X_train, X_test, y_train, y_test = train_test_split(\n",
    "            chef_data,\n",
    "            chef_target,\n",
    "            test_size = 0.25,\n",
    "            random_state = 222)"
   ]
  },
  {
   "cell_type": "markdown",
   "metadata": {},
   "source": [
    "<h1> User Defined Functions </h1>\n",
    "\n",
    "<strong> Here I define my user-defined functions which will later be used for analysis.</strong>"
   ]
  },
  {
   "cell_type": "code",
   "execution_count": 5,
   "metadata": {},
   "outputs": [],
   "source": [
    "########################################\n",
    "# plot_feature_importances\n",
    "########################################\n",
    "def plot_feature_importances(model, train, export = False):\n",
    "    \"\"\"\n",
    "    Plots the importance of features from a CART model.\n",
    "    \n",
    "    PARAMETERS\n",
    "    ----------\n",
    "    model  : CART model\n",
    "    train  : explanatory variable training data\n",
    "    export : whether or not to export as a .png image, default False\n",
    "    \"\"\"\n",
    "    \n",
    "    # declaring the number\n",
    "    n_features = X_train.shape[1]\n",
    "    \n",
    "    # setting plot window\n",
    "    fig, ax = plt.subplots(figsize=(12,9))\n",
    "    \n",
    "    plt.barh(range(n_features), model.feature_importances_, align='center')\n",
    "    plt.yticks(pd.np.arange(n_features), train.columns)\n",
    "    plt.xlabel(\"Feature importance\")\n",
    "    plt.ylabel(\"Feature\")\n",
    "    \n",
    "    if export == True:\n",
    "        plt.savefig('Tree_Leaf_50_Feature_Importance.png')"
   ]
  },
  {
   "cell_type": "markdown",
   "metadata": {},
   "source": [
    "<h1> Correlations </h1>\n",
    "\n",
    "<strong> Correlations reveal the most important variables that affect our response variable, cross sell success. This matrix shows that the percentage of recommendations followed is the most important, with a correlation of 0.46.</strong>"
   ]
  },
  {
   "cell_type": "code",
   "execution_count": 6,
   "metadata": {},
   "outputs": [
    {
     "data": {
      "text/plain": [
       "CROSS_SELL_SUCCESS              1.00\n",
       "FOLLOWED_RECOMMENDATIONS_PCT    0.46\n",
       "CANCELLATIONS_BEFORE_NOON       0.16\n",
       "TASTES_AND_PREFERENCES          0.08\n",
       "REFRIGERATED_LOCKER             0.07\n",
       "MASTER_CLASSES_ATTENDED         0.04\n",
       "PACKAGE_LOCKER                  0.04\n",
       "CONTACTS_W_CUSTOMER_SERVICE     0.04\n",
       "PC_LOGINS                       0.04\n",
       "MEDIAN_MEAL_RATING              0.03\n",
       "AVG_PREP_VID_TIME               0.03\n",
       "LARGEST_ORDER_SIZE              0.02\n",
       "EARLY_DELIVERIES                0.02\n",
       "TOTAL_PHOTOS_VIEWED             0.01\n",
       "LATE_DELIVERIES                 0.01\n",
       "TOTAL_MEALS_ORDERED             0.01\n",
       "AVG_TIME_PER_SITE_VISIT         0.01\n",
       "UNIQUE_MEALS_PURCH              0.00\n",
       "REVENUE                         0.00\n",
       "PRODUCT_CATEGORIES_VIEWED       0.00\n",
       "WEEKLY_PLAN                    -0.01\n",
       "AVG_CLICKS_PER_VISIT           -0.04\n",
       "CANCELLATIONS_AFTER_NOON       -0.05\n",
       "MOBILE_LOGINS                  -0.05\n",
       "Name: CROSS_SELL_SUCCESS, dtype: float64"
      ]
     },
     "execution_count": 6,
     "metadata": {},
     "output_type": "execute_result"
    }
   ],
   "source": [
    "#preparting data for correlation matrix\n",
    "corr_data   = original_df.drop(['NAME',\n",
    "                           'EMAIL',\n",
    "                           'FIRST_NAME',\n",
    "                           'FAMILY_NAME',\n",
    "                            'MOBILE_NUMBER'],\n",
    "                           axis=1)\n",
    "\n",
    "#defining correlation matrix\n",
    "df_corr = corr_data.corr().round(2)\n",
    "\n",
    "#displaying portion of correlation matrix pertaining to our response variable in order to gain insights\n",
    "df_corr['CROSS_SELL_SUCCESS'].sort_values(ascending = False)"
   ]
  },
  {
   "cell_type": "markdown",
   "metadata": {},
   "source": [
    "<h1>Logistic Regression </h1>\n",
    "\n",
    "<strong>Next I instantiated, fit, and predicted my logistic regression model. I saved the auc, test, and train scores for this model for later comparison. </strong>"
   ]
  },
  {
   "cell_type": "code",
   "execution_count": 7,
   "metadata": {},
   "outputs": [
    {
     "name": "stderr",
     "output_type": "stream",
     "text": [
      "C:\\Users\\mabra\\Anaconda3\\lib\\site-packages\\sklearn\\linear_model\\_logistic.py:940: ConvergenceWarning: lbfgs failed to converge (status=1):\n",
      "STOP: TOTAL NO. of ITERATIONS REACHED LIMIT.\n",
      "\n",
      "Increase the number of iterations (max_iter) or scale the data as shown in:\n",
      "    https://scikit-learn.org/stable/modules/preprocessing.html\n",
      "Please also refer to the documentation for alternative solver options:\n",
      "    https://scikit-learn.org/stable/modules/linear_model.html#logistic-regression\n",
      "  extra_warning_msg=_LOGISTIC_SOLVER_CONVERGENCE_MSG)\n"
     ]
    }
   ],
   "source": [
    "# INSTANTIATING a model object\n",
    "logreg = LogisticRegression(solver = 'lbfgs',\n",
    "                            C = 1,\n",
    "                            random_state = 222)\n",
    "\n",
    "\n",
    "# FITTING to the training data\n",
    "logreg_fit = logreg.fit(X_train, y_train)\n",
    "\n",
    "\n",
    "# PREDICTING on new data\n",
    "logreg_pred = logreg_fit.predict(X_test)\n",
    "\n",
    "\n",
    "# SCORING the results #these print statements are used for checking my code before doing the model comparison below\n",
    "#print('Training ACCURACY:', logreg_fit.score(X_train, y_train).round(4))\n",
    "#print('Testing  ACCURACY:', logreg_fit.score(X_test, y_test).round(4))\n",
    "#print('AUC Score        :', roc_auc_score(y_test,logreg_pred).round(4))\n",
    "\n",
    "# saving scoring data for future use\n",
    "lr_train_score = logreg_fit.score(X_train, y_train).round(4)\n",
    "lr_test_score  = logreg_fit.score(X_test, y_test).round(4)\n",
    "lr_auc_score = roc_auc_score(y_test,logreg_pred).round(4)"
   ]
  },
  {
   "cell_type": "markdown",
   "metadata": {},
   "source": [
    "<h1>KNN Classification </h1>\n",
    "\n",
    "<strong>Next I instantiated, fit, and predicted my KNN classification model. I also saved the auc, test, and train scores for this model for later comparison. </strong>"
   ]
  },
  {
   "cell_type": "code",
   "execution_count": 8,
   "metadata": {},
   "outputs": [],
   "source": [
    "# INSTANTIATING a KNN classification model with optimal neighbors\n",
    "knn_opt = KNeighborsClassifier(n_neighbors = 2)\n",
    "\n",
    "\n",
    "# FITTING the training data\n",
    "knn_fit = knn_opt.fit(X_train, y_train)\n",
    "\n",
    "\n",
    "# PREDICTING based on the testing set\n",
    "knn_pred = knn_fit.predict(X_test)\n",
    "\n",
    "\n",
    "# SCORING the results #these print statements are used for checking my code before doing the model comparison below\n",
    "#print('Training ACCURACY:', knn_fit.score(X_train, y_train).round(4))\n",
    "#print('Testing  ACCURACY:', knn_fit.score(X_test, y_test).round(4))\n",
    "#print('AUC Score        :', roc_auc_score(y_true  = y_test,\n",
    "#                                          y_score = knn_pred).round(4))\n",
    "\n",
    "#saving results for comparison\n",
    "knn_train_score = knn_fit.score(X_train, y_train).round(4)\n",
    "knn_test_score = knn_fit.score(X_test, y_test).round(4)\n",
    "knn_auc_score = roc_auc_score(y_true  = y_test,\n",
    "                                          y_score = knn_pred).round(4)\n",
    "\n"
   ]
  },
  {
   "cell_type": "markdown",
   "metadata": {},
   "source": [
    "<h1> Full Decision Tree </h1>\n",
    "\n",
    "<strong>Next I instantiated, fit, and predicted my full decision tree model. Again, I saved the auc, test, and train scores for this model for later comparison. </strong>"
   ]
  },
  {
   "cell_type": "code",
   "execution_count": 9,
   "metadata": {},
   "outputs": [],
   "source": [
    "# INSTANTIATING a classification tree object\n",
    "full_tree = DecisionTreeClassifier()\n",
    "\n",
    "\n",
    "# FITTING the training data\n",
    "full_tree_fit = full_tree.fit(X_train, y_train)\n",
    "\n",
    "\n",
    "# PREDICTING on new data\n",
    "full_tree_pred = full_tree_fit.predict(X_test)\n",
    "\n",
    "\n",
    "# SCORING the model #these print statements are used for checking my code before doing the model comparison below\n",
    "#print('Training ACCURACY:', full_tree_fit.score(X_train, y_train).round(4))\n",
    "#print('Testing  ACCURACY:', full_tree_fit.score(X_test, y_test).round(4))\n",
    "#print('AUC Score        :', roc_auc_score(y_true  = y_test,\n",
    "#                                          y_score = full_tree_pred).round(4))\n",
    "\n",
    "#saving results for comparison\n",
    "full_train_score = full_tree_fit.score(X_train, y_train).round(4)\n",
    "full_test_score = full_tree_fit.score(X_test, y_test).round(4)\n",
    "full_auc_score = roc_auc_score(y_true  = y_test,\n",
    "                                          y_score = full_tree_pred).round(4)"
   ]
  },
  {
   "cell_type": "markdown",
   "metadata": {},
   "source": [
    "<h1>Pruned Decision Tree</h1>\n",
    "\n",
    "<strong>Next I instantiated, fit, and predicted my pruned decision tree model. Once again, I saved the auc, test, and train scores for this model for later comparison. </strong>"
   ]
  },
  {
   "cell_type": "code",
   "execution_count": 10,
   "metadata": {},
   "outputs": [],
   "source": [
    "# INSTANTIATING a classification tree object\n",
    "tree_pruned      = DecisionTreeClassifier(max_depth = 4,\n",
    "                                          min_samples_leaf = 25,\n",
    "                                          random_state = 802)\n",
    "\n",
    "\n",
    "# FITTING the training data\n",
    "tree_pruned_fit  = tree_pruned.fit(X_train, y_train)\n",
    "\n",
    "\n",
    "# PREDICTING on new data\n",
    "tree_pred = tree_pruned_fit.predict(X_test)\n",
    "\n",
    "\n",
    "# SCORING the model #these print statements are used for checking my code before doing the model comparison below\n",
    "#print('Training ACCURACY:', tree_pruned_fit.score(X_train, y_train).round(4))\n",
    "#print('Testing  ACCURACY:', tree_pruned_fit.score(X_test, y_test).round(4))\n",
    "#print('AUC Score        :', roc_auc_score(y_true  = y_test,\n",
    "#                                          y_score = tree_pred).round(4))\n",
    "\n",
    "#saving results for comparison\n",
    "pruned_train_score = tree_pruned_fit.score(X_train, y_train).round(4)\n",
    "pruned_test_score = tree_pruned_fit.score(X_test, y_test).round(4)\n",
    "pruned_auc_score = roc_auc_score(y_true  = y_test,\n",
    "                                          y_score = tree_pred).round(4)"
   ]
  },
  {
   "cell_type": "markdown",
   "metadata": {},
   "source": [
    "<h1>Feature Importance From Trees</h1>\n",
    "\n",
    "<strong>I plotted the feature importances from my pruned tree to determine the most important variables for predicting cross sell success. I can compare these results with my correlation above to gain insights about this business problem. Both this feature importane chart and my correlation matrix indicate that the percentage of recommendations followed is hte most important determinant of cross sell success. </strong>"
   ]
  },
  {
   "cell_type": "code",
   "execution_count": 11,
   "metadata": {},
   "outputs": [
    {
     "name": "stderr",
     "output_type": "stream",
     "text": [
      "C:\\Users\\mabra\\Anaconda3\\lib\\site-packages\\ipykernel_launcher.py:22: FutureWarning: The pandas.np module is deprecated and will be removed from pandas in a future version. Import numpy directly instead\n"
     ]
    },
    {
     "data": {
      "image/png": "[encoded data removed]",
      "text/plain": [
       "<Figure size 864x648 with 1 Axes>"
      ]
     },
     "metadata": {
      "needs_background": "light"
     },
     "output_type": "display_data"
    }
   ],
   "source": [
    "# plotting feature importance\n",
    "plot_feature_importances(tree_pruned_fit,\n",
    "                         train = X_train,\n",
    "                         export = False)"
   ]
  },
  {
   "cell_type": "markdown",
   "metadata": {},
   "source": [
    "<h1>Catboost Classification</h1>\n",
    "\n",
    "<strong>Now I tried my CatBoostClassifier model. As always, I saved the auc, test, and train scores for this model for later comparison. </strong>"
   ]
  },
  {
   "cell_type": "code",
   "execution_count": 12,
   "metadata": {},
   "outputs": [],
   "source": [
    "#function for suppressing unnecessary iteration output\n",
    "@contextmanager\n",
    "def suppress_stdout():\n",
    "    with open(os.devnull, \"w\") as devnull:\n",
    "        old_stdout = sys.stdout\n",
    "        sys.stdout = devnull\n",
    "        try:  \n",
    "            yield\n",
    "        finally:\n",
    "            sys.stdout = old_stdout\n",
    "\n",
    "# INSTANTIATING a model object with chosen hyperparamaters\n",
    "cat_model = CatBoostClassifier(learning_rate=.0000003,iterations=4000,depth =5,  l2_leaf_reg=10,thread_count=4,\n",
    "                             border_count=50, random_strength=.8, grow_policy='Depthwise', min_data_in_leaf=1)\n",
    "\n",
    "#d=6,7,8\n",
    "with suppress_stdout():\n",
    "    # FITTING the training data\n",
    "    cat_fit = cat_model.fit(X_train, y_train,\n",
    "                           use_best_model=True,\n",
    "                          eval_set= (X_test, y_test))\n",
    "\n",
    "\n",
    "    # PREDICTING on new data\n",
    "    cat_pred = cat_model.predict(X_test)\n",
    "    \n",
    "\n",
    "\n",
    "# saving scoring data for future use\n",
    "cat_train_score = cat_model.score(X_train, y_train).round(4)\n",
    "cat_test_score  = cat_model.score(X_test, y_test).round(4)\n",
    "cat_auc_score = roc_auc_score(y_test,cat_pred).round(4)\n",
    "test_score = cat_test_score\n",
    "\n",
    "#printing results to check my code\n",
    "#print('Training Score:', cat_model.score(X_train, y_train).round(4))\n",
    "#print('Testing Score:',  cat_model.score(X_test, y_test).round(4))\n",
    "#print(f\"\"\"AUC Score    :{cat_auc_score}\"\"\")"
   ]
  },
  {
   "cell_type": "markdown",
   "metadata": {},
   "source": [
    "<h1>Model Comparison</h1>\n",
    "\n",
    "<strong>Next I compared the results of these models and selected my final model with which I would move forward. I also saved these results to an excel file.</strong>"
   ]
  },
  {
   "cell_type": "code",
   "execution_count": 13,
   "metadata": {},
   "outputs": [
    {
     "name": "stdout",
     "output_type": "stream",
     "text": [
      "\n",
      "Model      Train Score      Test Score      AUC Score\n",
      "-----      -----------      ----------      ----------\n",
      "LogReg     0.6785           0.6448           0.5791\n",
      "KNN        0.8026           0.5852           0.6078\n",
      "FullTree   1.0              0.7228           0.684\n",
      "PrunedTree 0.7827           0.7762           0.7593\n",
      "Cat        0.8005           0.7803           0.7753\n",
      "\n"
     ]
    }
   ],
   "source": [
    "# comparing results\n",
    "\n",
    "print(f\"\"\"\n",
    "Model      Train Score      Test Score      AUC Score\n",
    "-----      -----------      ----------      ----------\n",
    "LogReg     {lr_train_score}           {lr_test_score}           {lr_auc_score}\n",
    "KNN        {knn_train_score}           {knn_test_score}           {knn_auc_score}\n",
    "FullTree   {full_train_score}              {full_test_score}           {full_auc_score}\n",
    "PrunedTree {pruned_train_score}           {pruned_test_score}           {pruned_auc_score}\n",
    "Cat        {cat_train_score}           {cat_test_score}           {cat_auc_score}\n",
    "\"\"\")\n",
    "\n",
    "\n",
    "# creating a dictionary for model results\n",
    "model_performance = {'Model'    : ['LogReg', 'KNN', 'FullTree', 'PrunedTree', 'Cat'],\n",
    "           \n",
    "                     'Training' : [lr_train_score, knn_train_score,\n",
    "                                   full_train_score, pruned_train_score, cat_train_score],\n",
    "           \n",
    "                     'Testing'  : [lr_test_score, knn_test_score,\n",
    "                                   full_test_score, pruned_test_score, cat_test_score],\n",
    "\n",
    "                     'AUC'      : [lr_auc_score, knn_auc_score,\n",
    "                                   full_auc_score, pruned_auc_score, cat_auc_score]}\n",
    "\n",
    "\n",
    "# converting model_performance into a DataFrame\n",
    "model_performance = pd.DataFrame(model_performance)\n",
    "\n",
    "\n",
    "# sending model results to Excel\n",
    "model_performance.to_excel('classification_model_performance.xlsx',\n",
    "                           index = False)"
   ]
  },
  {
   "cell_type": "markdown",
   "metadata": {},
   "source": [
    "<h1>Conclusion</h1>\n",
    "\n",
    "<strong>Based on this comparison of model performance, I chose CatboostClassifier as my final model.</strong>                     "
   ]
  },
  {
   "cell_type": "markdown",
   "metadata": {},
   "source": [
    "<h1>Notes</h1>\n",
    "\n",
    "<strong>Below I show a number of variables that I created and tested. These variables often helped logistic regression, but did not help KNN or tree models. Therefore, I did not include these variables in my analysis.<strong>"
   ]
  },
  {
   "cell_type": "code",
   "execution_count": 14,
   "metadata": {},
   "outputs": [],
   "source": [
    "#I tried creating a series of categorical variables to mark turning points in revenue trends for the following variables\n",
    "#contacts with customer service > 10 marks a turning point in trend\n",
    "#dataset['CWCSover10'] = [1 if x >10 else 0 for x in dataset['CONTACTS_W_CUSTOMER_SERVICE']]\n",
    "\n",
    "#clicksover15 marks a turning point in trend\n",
    "#dataset['Clicksover15'] = [1 if x >15 else 0 for x in dataset['AVG_CLICKS_PER_VISIT']]\n",
    "\n",
    "#clicksover15 marks a turning point in trend\n",
    "#dataset['latedeliveriesover13'] = [1 if x >13 else 0 for x in dataset['LATE_DELIVERIES']]\n",
    "\n",
    "#dummy variable for mobile logins trend threshold\n",
    "#dataset['mobilecat'] = [1 if x == 1 or x==2 else 0 for x in dataset['MOBILE_LOGINS']]\n",
    "\n",
    "#dummyvariable for unique meals purchased trend threshold\n",
    "#dataset['uniquecat'] = [1 if x>9.5 else 0 for x in dataset['UNIQUE_MEALS_PURCH']]\n",
    "\n",
    "#I tried one hot encoding median meal rating\n",
    "#dataset = pd.concat([dataset, pd.get_dummies(dataset['MEDIAN_MEAL_RATING'])],axis=1)\n",
    "#dataset.columns = [                     'REVENUE',           'CROSS_SELL_SUCCESS',\n",
    "#                               'NAME',                        'EMAIL',\n",
    "#                         'FIRST_NAME',                  'FAMILY_NAME',\n",
    "#                'TOTAL_MEALS_ORDERED',           'UNIQUE_MEALS_PURCH',\n",
    "#        'CONTACTS_W_CUSTOMER_SERVICE',    'PRODUCT_CATEGORIES_VIEWED',\n",
    "#            'AVG_TIME_PER_SITE_VISIT',                'MOBILE_NUMBER',\n",
    "#          'CANCELLATIONS_BEFORE_NOON',     'CANCELLATIONS_AFTER_NOON',\n",
    "#            'TASTES_AND_PREFERENCES',                    'PC_LOGINS',\n",
    "#                      'MOBILE_LOGINS',                  'WEEKLY_PLAN',\n",
    "#                   'EARLY_DELIVERIES',              'LATE_DELIVERIES',\n",
    "#                     'PACKAGE_LOCKER',          'REFRIGERATED_LOCKER',\n",
    "#       'FOLLOWED_RECOMMENDATIONS_PCT',            'AVG_PREP_VID_TIME',\n",
    "#                 'LARGEST_ORDER_SIZE',      'MASTER_CLASSES_ATTENDED',\n",
    "#                 'MEDIAN_MEAL_RATING',         'AVG_CLICKS_PER_VISIT',\n",
    "#                'TOTAL_PHOTOS_VIEWED',                   'CWCSover10',\n",
    "#                       'Clicksover15',         'latedeliveriesover13',\n",
    "#                          'mobilecat',                    'uniquecat',\n",
    "#                           'rating_1',                     'rating_2',\n",
    "#                           'rating_3',                     'rating_4',\n",
    "#                           'rating_5']\n",
    "\n",
    "#I tried one hot encoding masters classes attended\n",
    "#dataset = pd.concat([dataset, pd.get_dummies(dataset['MASTER_CLASSES_ATTENDED'])],axis=1)\n",
    "#dataset.columns = [                     'REVENUE',           'CROSS_SELL_SUCCESS',\n",
    "#                               'NAME',                        'EMAIL',\n",
    "#                         'FIRST_NAME',                  'FAMILY_NAME',\n",
    "#                'TOTAL_MEALS_ORDERED',           'UNIQUE_MEALS_PURCH',\n",
    "#        'CONTACTS_W_CUSTOMER_SERVICE',    'PRODUCT_CATEGORIES_VIEWED',\n",
    "#            'AVG_TIME_PER_SITE_VISIT',                'MOBILE_NUMBER',\n",
    "#          'CANCELLATIONS_BEFORE_NOON',     'CANCELLATIONS_AFTER_NOON',\n",
    "#             'TASTES_AND_PREFERENCES',                    'PC_LOGINS',\n",
    "#                      'MOBILE_LOGINS',                  'WEEKLY_PLAN',\n",
    "#                   'EARLY_DELIVERIES',              'LATE_DELIVERIES',\n",
    "#                     'PACKAGE_LOCKER',          'REFRIGERATED_LOCKER',\n",
    "#       'FOLLOWED_RECOMMENDATIONS_PCT',            'AVG_PREP_VID_TIME',\n",
    "#                 'LARGEST_ORDER_SIZE',      'MASTER_CLASSES_ATTENDED',\n",
    "#                 'MEDIAN_MEAL_RATING',         'AVG_CLICKS_PER_VISIT',\n",
    "#                'TOTAL_PHOTOS_VIEWED',                   'CWCSover10',\n",
    "#                       'Clicksover15',         'latedeliveriesover13',\n",
    "#                          'mobilecat',                    'uniquecat',\n",
    "#                           'rating_1',                     'rating_2',\n",
    "#                           'rating_3',                     'rating_4',\n",
    "#                           'rating_5',                      'class_0',\n",
    "#                            'class_1',                      'class_2',\n",
    "#                            'class_3']\n",
    "\n",
    "#I tried splitting email into domain addresses and one hot encoding this variable into cateogricals for each domain\n",
    "#dataset['domain'] = dataset['EMAIL'].str.split('@').str[1]\n",
    "#dataset = pd.concat([dataset, pd.get_dummies(dataset['domain'])],axis=1)\n",
    "\n",
    "#this loop creates interaction terms between every explanatory variable\n",
    "#this helped for linear, lasso, ridge, and ARD but did not help for Cat\n",
    "#L=[(x, y) for x, y in itertools.product(chef_data.columns,chef_data.columns) if x != y]\n",
    "#interaction_data = pd.concat([pd.DataFrame({''.join(i):chef_data.loc[:,i].prod(axis=1)}) for i in L],axis=1)\n",
    "#chef_data = pd.concat([chef_data, interaction_data], axis=1)"
   ]
  },
  {
   "cell_type": "markdown",
   "metadata": {},
   "source": [
    "<h1>                            .O°o. .o°O________________________________O°o. .o°O.\n",
    "                            .°o.O.o° ¯¯¯¯¯¯¯¯¯¯¯¯¯¯¯¯¯¯¯¯¯¯¯¯¯¯¯¯¯¯¯¯¯¯¯.°o.O.o°\n",
    "                            ░░░░░╔══╦╗░░░░╔╗░░░░░░╔╗╔╗░░░░░░░░\n",
    "                            ░░░░░╚╗╔╣╚╦═╦═╣║╔╗░░░░║║║╠═╦╦╗░░░░\n",
    "                            ░░░░░░║║║║╠╝║║║╠╝║░░░░║╚╝║║║║║░░░░\n",
    "                            ░░░░░░║║║║║║║║║╔╗╣░░░░╚╗╔╣║║║║░░░░\n",
    "                            ░░░░░░╚╝╚╩╩═╩╩╩╝╚╝░░░░░╚╝╚═╩═╝░░░░\n",
    "                            .O°o. .o°O________________________________O°o. .o°O.\n",
    "                            .°o.O.o° ¯¯¯¯¯¯¯¯¯¯¯¯¯¯¯¯¯¯¯¯¯¯¯¯¯¯¯¯¯¯¯¯¯¯¯.°o.O.o°..</h1>"
   ]
  },
  {
   "cell_type": "code",
   "execution_count": null,
   "metadata": {},
   "outputs": [],
   "source": []
  }
 ],
 "metadata": {
  "kernelspec": {
   "display_name": "Python 3",
   "language": "python",
   "name": "python3"
  },
  "language_info": {
   "codemirror_mode": {
    "name": "ipython",
    "version": 3
   },
   "file_extension": ".py",
   "mimetype": "text/x-python",
   "name": "python",
   "nbconvert_exporter": "python",
   "pygments_lexer": "ipython3",
   "version": "3.7.6"
  }
 },
 "nbformat": 4,
 "nbformat_minor": 4
}
